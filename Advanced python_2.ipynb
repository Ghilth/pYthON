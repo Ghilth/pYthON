{
 "cells": [
  {
   "cell_type": "code",
   "execution_count": 1,
   "id": "59148371",
   "metadata": {},
   "outputs": [],
   "source": [
    "class Person:\n",
    "    def __init__(self,name,age):\n",
    "        self.name=name\n",
    "        self.age=age\n",
    "        \n",
    "    def __repr__(self):\n",
    "        return f\"Nom: {self.name}, Age: {self.age}ans\"\n",
    "        "
   ]
  },
  {
   "cell_type": "code",
   "execution_count": 5,
   "id": "0366e994",
   "metadata": {},
   "outputs": [
    {
     "name": "stdout",
     "output_type": "stream",
     "text": [
      "Nom: Howard, Age: 33ans\n"
     ]
    }
   ],
   "source": [
    "p=Person(\"Howard\",33)\n",
    "print(p)"
   ]
  },
  {
   "cell_type": "markdown",
   "id": "51dfb9a8",
   "metadata": {},
   "source": [
    "Différence subtile entre __str__ et __repr__ sinon quand l'un est utilisé il appelle l'autre sinon en pratique on obtient le même résultat"
   ]
  },
  {
   "cell_type": "markdown",
   "id": "76b86ca1",
   "metadata": {},
   "source": [
    "# SEQUENCES"
   ]
  },
  {
   "cell_type": "code",
   "execution_count": 6,
   "id": "1017e5b4",
   "metadata": {},
   "outputs": [
    {
     "data": {
      "text/plain": [
       "1"
      ]
     },
     "execution_count": 6,
     "metadata": {},
     "output_type": "execute_result"
    }
   ],
   "source": [
    "l=[1,2,3,4,5]\n",
    "l[0]"
   ]
  },
  {
   "cell_type": "code",
   "execution_count": 9,
   "id": "e5fb130e",
   "metadata": {},
   "outputs": [
    {
     "data": {
      "text/plain": [
       "['A', 'I']"
      ]
     },
     "execution_count": 9,
     "metadata": {},
     "output_type": "execute_result"
    }
   ],
   "source": [
    "list(\"AI\")"
   ]
  },
  {
   "cell_type": "markdown",
   "id": "7a79b43d",
   "metadata": {},
   "source": [
    "# A pythonic Card Deck"
   ]
  },
  {
   "cell_type": "code",
   "execution_count": 7,
   "id": "f9ab5c1a",
   "metadata": {},
   "outputs": [],
   "source": [
    "class Card1:\n",
    "    def __init__(self,rank,suit):\n",
    "        self.rank=rank\n",
    "        self.suit=suit\n",
    "        \n",
    "    def __repr__(self):\n",
    "        return f\" Card(rank={self.rank} ,suit={self.suit})\""
   ]
  },
  {
   "cell_type": "code",
   "execution_count": 8,
   "id": "d3056ce4",
   "metadata": {},
   "outputs": [
    {
     "name": "stdout",
     "output_type": "stream",
     "text": [
      " Card(rank=7 ,suit=diamond)\n"
     ]
    }
   ],
   "source": [
    "card=Card1(7,\"diamond\")\n",
    "print(card)"
   ]
  },
  {
   "cell_type": "markdown",
   "id": "9cfaf3e6",
   "metadata": {},
   "source": [
    "# Vector practice"
   ]
  },
  {
   "cell_type": "code",
   "execution_count": 45,
   "id": "085d6396",
   "metadata": {},
   "outputs": [],
   "source": [
    "import math\n",
    "class Vector:\n",
    "    def __init__(self,x=0,y=0):\n",
    "        self.x=x\n",
    "        self.y=y\n",
    "        \n",
    "    def __add__(self,v2):\n",
    "        x=self.x+ v2.x\n",
    "        y=self.y + v2.y\n",
    "        return Vector(x,y)\n",
    "\n",
    "    #A revoir,un problème avec self ou non pour que ça marche\n",
    "    def __mul__(self,sc):\n",
    "        x=self.x * sc\n",
    "        y=self.y * sc\n",
    "        return Vector(x,y)\n",
    "    \n",
    "    #abs pas marché\n",
    "    def __abs__(self,v):\n",
    "        return math.sqrt(v.x**2+v.y**2)\n",
    "    \n",
    "    def __repr__(self):\n",
    "        return f\"Vector({self.x},{self.y})\"\n",
    "    \n",
    "    \n",
    "        "
   ]
  },
  {
   "cell_type": "code",
   "execution_count": 46,
   "id": "dab6474d",
   "metadata": {},
   "outputs": [
    {
     "data": {
      "text/plain": [
       "Vector(3,3)"
      ]
     },
     "execution_count": 46,
     "metadata": {},
     "output_type": "execute_result"
    }
   ],
   "source": [
    "v1=Vector(1,1)\n",
    "v2=Vector(2,2)\n",
    "v1+v2"
   ]
  },
  {
   "cell_type": "code",
   "execution_count": 41,
   "id": "d05e3647",
   "metadata": {},
   "outputs": [
    {
     "name": "stdout",
     "output_type": "stream",
     "text": [
      "2.0\n"
     ]
    }
   ],
   "source": [
    "import math\n",
    "print(math.sqrt(4))"
   ]
  },
  {
   "cell_type": "markdown",
   "id": "fab39542",
   "metadata": {},
   "source": [
    "nv=v1*3\n",
    "print(nv)"
   ]
  },
  {
   "cell_type": "markdown",
   "id": "51474a80",
   "metadata": {},
   "source": [
    "Le modèle de données est l'ensemble des méthodes spéciales qu'on peut donner à une classe pour qu'elle ait une classe"
   ]
  },
  {
   "cell_type": "code",
   "execution_count": 49,
   "id": "0e6c368b",
   "metadata": {},
   "outputs": [
    {
     "name": "stdout",
     "output_type": "stream",
     "text": [
      "3\n"
     ]
    }
   ],
   "source": [
    "li=[1,2,3]\n",
    "a=li.pop()\n",
    "print(a)"
   ]
  },
  {
   "cell_type": "code",
   "execution_count": 51,
   "id": "e278179e",
   "metadata": {},
   "outputs": [
    {
     "name": "stdout",
     "output_type": "stream",
     "text": [
      "[1, 2]\n"
     ]
    }
   ],
   "source": [
    "#SHIFT +ENTER pour exécuter la cellule\n",
    "print(li)"
   ]
  },
  {
   "cell_type": "markdown",
   "id": "affad08c",
   "metadata": {},
   "source": [
    "# Unpacking\n",
    "\n",
    "a,b=(x,y)\n",
    "\n",
    "On attribue des valeurs à des variables à partir des exacts éléments d'une structure itérable(c'est comme une découpe)"
   ]
  },
  {
   "cell_type": "markdown",
   "id": "0b6b7322",
   "metadata": {},
   "source": [
    "les listes ne sont pas hashables  car elles sont immuables or le processus de hashable prend une constante pour l'encoder en une valeur h(Mot de passe dans la base de données par exemple)"
   ]
  },
  {
   "cell_type": "code",
   "execution_count": null,
   "id": "ec17862d",
   "metadata": {},
   "outputs": [],
   "source": []
  }
 ],
 "metadata": {
  "kernelspec": {
   "display_name": "Python 3 (ipykernel)",
   "language": "python",
   "name": "python3"
  },
  "language_info": {
   "codemirror_mode": {
    "name": "ipython",
    "version": 3
   },
   "file_extension": ".py",
   "mimetype": "text/x-python",
   "name": "python",
   "nbconvert_exporter": "python",
   "pygments_lexer": "ipython3",
   "version": "3.10.9"
  }
 },
 "nbformat": 4,
 "nbformat_minor": 5
}
