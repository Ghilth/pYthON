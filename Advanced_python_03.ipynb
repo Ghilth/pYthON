{
 "cells": [
  {
   "cell_type": "markdown",
   "metadata": {},
   "source": [
    "# Exo 1 : Devine le nombre"
   ]
  },
  {
   "cell_type": "markdown",
   "metadata": {},
   "source": [
    "Ecris une fonction nommée devinette qui ne prend aucun argument. Quand on l'exécute, elle choisit un nombre aléatoire en 0 et 100 (inclus)et demande à l'utilisateur de deviner ce nombre.A chaque fois que l'utilisateur entre un nombre, le programme affiche l'une de ces phrases :\n",
    "\n",
    "    Trop grand\n",
    "    Trop petit\n",
    "    Exact\n",
    "\n",
    "Si l'utilisateur a choisit correctement, le programme s'arrete. Sinon, le programme demande encore à l'utilisateur de rentrer un nouveau nombre jusqu'à ce qu'il trouve la bonne solution et s'arrête.\n",
    "\n",
    "    Aide : Cherche le module random de Python pour générer un nombre aléatoirement.\n",
    "\n"
   ]
  },
  {
   "cell_type": "code",
   "execution_count": 1,
   "metadata": {},
   "outputs": [],
   "source": [
    "import random\n",
    "\n",
    "def devine_nombre():\n",
    "\n",
    "    #générer un nombre aléatoire\n",
    "    nombre_aleatoire = random.randrange(100)\n",
    "\n",
    "    #condition d'arrêt\n",
    "    arret= False\n",
    "\n",
    "    #entree de l'utilisateur et verification\n",
    "\n",
    "    while(arret == False):\n",
    "\n",
    "        print(\"Entrez un nombre entre 0 et 100\")\n",
    "        \n",
    "        nombre_entree = int(input())\n",
    "\n",
    "        if nombre_entree == nombre_aleatoire:\n",
    "            print(f\"Exact. Vous avez trouvé le bon nombre : {nombre_aleatoire} !\")\n",
    "            arret = True\n",
    "        \n",
    "        elif nombre_aleatoire < nombre_entree :\n",
    "            print(\"Trop grand !\")\n",
    "        \n",
    "        else :\n",
    "            print(\"Trop petit !\")"
   ]
  },
  {
   "cell_type": "markdown",
   "metadata": {},
   "source": [
    "Testons notre fonction"
   ]
  },
  {
   "cell_type": "code",
   "execution_count": 2,
   "metadata": {},
   "outputs": [
    {
     "name": "stdout",
     "output_type": "stream",
     "text": [
      "Entrez un nombre entre 0 et 100\n",
      "Trop petit !\n",
      "Entrez un nombre entre 0 et 100\n",
      "Trop grand !\n",
      "Entrez un nombre entre 0 et 100\n",
      "Trop grand !\n",
      "Entrez un nombre entre 0 et 100\n",
      "Trop grand !\n",
      "Entrez un nombre entre 0 et 100\n",
      "Trop grand !\n",
      "Entrez un nombre entre 0 et 100\n",
      "Trop petit !\n",
      "Entrez un nombre entre 0 et 100\n",
      "Trop petit !\n",
      "Entrez un nombre entre 0 et 100\n",
      "Trop grand !\n",
      "Entrez un nombre entre 0 et 100\n",
      "Trop petit !\n",
      "Entrez un nombre entre 0 et 100\n",
      "Trop grand !\n",
      "Entrez un nombre entre 0 et 100\n",
      "Trop grand !\n",
      "Entrez un nombre entre 0 et 100\n",
      "Exact. Vous avez trouvé le bon nombre : 54 !\n"
     ]
    }
   ],
   "source": [
    "devine_nombre()"
   ]
  },
  {
   "cell_type": "markdown",
   "metadata": {},
   "source": [
    "# Exercice 2"
   ]
  },
  {
   "cell_type": "markdown",
   "metadata": {},
   "source": [
    "Reprend ton code pour le programme précédent. Modifie le pour donner seulement 3 chances à l'utilisateur pour deviner le nombre aléatoire choisit. Après 3 tentatives echouées, le programme s'arrête et affiche à l'utilisateur qu'il a épuisé ses chances."
   ]
  },
  {
   "cell_type": "code",
   "execution_count": 4,
   "metadata": {},
   "outputs": [],
   "source": [
    "import random\n",
    "\n",
    "\n",
    "\n",
    "def devine_nombre2():\n",
    "\n",
    "    #générer un nombre aléatoire\n",
    "    nombre_aleatoire = random.randrange(100)\n",
    "\n",
    "    #condition d'arrêt\n",
    "    arret= False\n",
    "\n",
    "    #entree de l'utilisateur et verification\n",
    "\n",
    "    for i in range(3):\n",
    "\n",
    "        print(\"Entrez un nombre entre 0 et 100\")\n",
    "        \n",
    "        nombre_entree = int(input())\n",
    "\n",
    "        if nombre_entree == nombre_aleatoire:\n",
    "            print(f\"Exact. Vous avez trouvé le bon nombre : {nombre_aleatoire} !\")\n",
    "            break\n",
    "        \n",
    "        elif nombre_aleatoire < nombre_entree :\n",
    "            print(\"Trop grand !\")\n",
    "        \n",
    "        elif nombre_aleatoire > nombre_entree :\n",
    "            print(\"Trop petit !\")\n",
    "\n",
    "\n",
    "        #Conditions d'arrêt\n",
    "        if i == 2:\n",
    "            print(\"Vous avez épuisé vos chances\")\n",
    "\n",
    "        "
   ]
  },
  {
   "cell_type": "markdown",
   "metadata": {},
   "source": [
    "Testons la fonction"
   ]
  },
  {
   "cell_type": "code",
   "execution_count": 5,
   "metadata": {},
   "outputs": [
    {
     "name": "stdout",
     "output_type": "stream",
     "text": [
      "Entrez un nombre entre 0 et 100\n",
      "Trop grand !\n",
      "Entrez un nombre entre 0 et 100\n",
      "Trop grand !\n",
      "Entrez un nombre entre 0 et 100\n",
      "Trop grand !\n",
      "Vous avez épuisé vos chances\n"
     ]
    }
   ],
   "source": [
    "devine_nombre2()"
   ]
  },
  {
   "cell_type": "markdown",
   "metadata": {},
   "source": [
    "# Exercice 3"
   ]
  },
  {
   "cell_type": "markdown",
   "metadata": {},
   "source": [
    "En Python, la fonction sum te permet de faire la somme des nombres d'une liste. Par exemple:"
   ]
  },
  {
   "cell_type": "code",
   "execution_count": 6,
   "metadata": {},
   "outputs": [
    {
     "data": {
      "text/plain": [
       "34"
      ]
     },
     "execution_count": 6,
     "metadata": {},
     "output_type": "execute_result"
    }
   ],
   "source": [
    "nombres = [5,2,6,8,9,4]\n",
    "sum(nombres)"
   ]
  },
  {
   "cell_type": "markdown",
   "metadata": {},
   "source": [
    "Dans cet exercice, nous allons réecrire cette fonction mais nous la nommerons somme. La fonction somme prend en entrée une liste de nombres et renvoie la somme de ces nombres. Ici, vous n'avez pas le droit d'utiliser la fonction sum de Python. Le but de cet exercice est d'apprendre à implémenter une fonction qui existe déjà et gagner en confiance sur nos capacités à faire des choses que d'autres programmeurs plus expérimentés ont déjà fait."
   ]
  },
  {
   "cell_type": "code",
   "execution_count": 7,
   "metadata": {},
   "outputs": [],
   "source": [
    "def somme(ma_liste : list):\n",
    "    compteur = 0\n",
    "\n",
    "    for i in ma_liste:\n",
    "        compteur += i\n",
    "\n",
    "    return compteur"
   ]
  },
  {
   "cell_type": "markdown",
   "metadata": {},
   "source": [
    "Testons la fonction"
   ]
  },
  {
   "cell_type": "code",
   "execution_count": 8,
   "metadata": {},
   "outputs": [
    {
     "data": {
      "text/plain": [
       "29"
      ]
     },
     "execution_count": 8,
     "metadata": {},
     "output_type": "execute_result"
    }
   ],
   "source": [
    "somme([1,2,5,15,6])"
   ]
  },
  {
   "cell_type": "markdown",
   "metadata": {},
   "source": [
    "# Exercice 4"
   ]
  },
  {
   "cell_type": "markdown",
   "metadata": {},
   "source": [
    "Vous êtes chargé d'octroyer les emails des nouveaux employés de votre entreprise. Vous travaillez chez PythonBoss. L'adresse email de vos employés est sous le format prenom_nom@pythonboss.com. Vous souhaitez écrire un programme pour automatiser cela. La programme demande à un utilisateur son prenom, puis son nom et affiche son adresse email. Par exemple Kevin Degila aura comme adresse email : kevin_degila@pythonboss.com . Ici vous devrez remarquer que l'adresse email ne contient que des lettres miniscules: C'est la préférence du directeur de PythonBoss. Vous avez intérêt à le satisfaire."
   ]
  },
  {
   "cell_type": "code",
   "execution_count": 9,
   "metadata": {},
   "outputs": [],
   "source": [
    "def attribuer_mail():\n",
    "\n",
    "    #Prendre le prenom\n",
    "    prenom =(input(\"Entrez votre prénom\"))\n",
    "\n",
    "    #Prendre le nom\n",
    "    nom = input(\"Entrez votre nom\")\n",
    "\n",
    "    return prenom.lower() + '_' + nom.lower() + '@pythonboss.com'"
   ]
  },
  {
   "cell_type": "code",
   "execution_count": 10,
   "metadata": {},
   "outputs": [
    {
     "data": {
      "text/plain": [
       "'ghilth_gbaguidi@pythonboss.com'"
      ]
     },
     "execution_count": 10,
     "metadata": {},
     "output_type": "execute_result"
    }
   ],
   "source": [
    "attribuer_mail()"
   ]
  },
  {
   "cell_type": "markdown",
   "metadata": {},
   "source": [
    "# Exercice 5"
   ]
  },
  {
   "cell_type": "markdown",
   "metadata": {},
   "source": [
    "Dans cet exercice, vous allez écrire une fonction ordonne_str qui prend une chaîne de caractères (string) et retourne ce même string mais en l'ordonnant par ordre alphabétique.\n",
    "\n",
    "Par exemple:\n",
    "\n",
    "ordonne_str('python')\n",
    "> 'hnopty'"
   ]
  },
  {
   "cell_type": "code",
   "execution_count": 11,
   "metadata": {},
   "outputs": [],
   "source": [
    "def ordonne_str(mot: str):\n",
    "\n",
    "    return ''.join(sorted(mot))\n"
   ]
  },
  {
   "cell_type": "markdown",
   "metadata": {},
   "source": [
    "Testons la fonction"
   ]
  },
  {
   "cell_type": "code",
   "execution_count": 12,
   "metadata": {},
   "outputs": [
    {
     "data": {
      "text/plain": [
       "'Ghhilt'"
      ]
     },
     "execution_count": 12,
     "metadata": {},
     "output_type": "execute_result"
    }
   ],
   "source": [
    "ordonne_str(\"Ghilth\")"
   ]
  },
  {
   "cell_type": "markdown",
   "metadata": {},
   "source": [
    "# Exercice 6"
   ]
  },
  {
   "cell_type": "markdown",
   "metadata": {},
   "source": [
    "\n",
    "Exo 6 : Le Francais sans Voyelle\n",
    "\n",
    "A quoi ressemblerait le Français sans voyelle ? Nous allons écrire une fonction qui prend une chaine de caractères et enlève les voyelles.\n",
    "\n",
    "    Pour rappel, les voyelles en français sont : a e i o u y\n",
    "\n",
    "Par exemple :\n",
    "\n",
    "sans_voyelle('python')\n",
    "> 'pthn'\n",
    "\n"
   ]
  },
  {
   "cell_type": "code",
   "execution_count": 13,
   "metadata": {},
   "outputs": [],
   "source": [
    "def retirer_voyelle(mot):\n",
    "\n",
    "    new_word=''\n",
    "    for i in mot:\n",
    "\n",
    "        if i in \"aeiouy\":\n",
    "            pass\n",
    "        else :\n",
    "            new_word+=i\n",
    "            \n",
    "    return new_word"
   ]
  },
  {
   "cell_type": "markdown",
   "metadata": {},
   "source": [
    "Testons la fonction"
   ]
  },
  {
   "cell_type": "code",
   "execution_count": 14,
   "metadata": {},
   "outputs": [
    {
     "data": {
      "text/plain": [
       "'Gnzrdc vctpn  rsq  p'"
      ]
     },
     "execution_count": 14,
     "metadata": {},
     "output_type": "execute_result"
    }
   ],
   "source": [
    "retirer_voyelle(\"Gnazreydic vcitopan  oursq  yap\")"
   ]
  },
  {
   "cell_type": "markdown",
   "metadata": {},
   "source": [
    "# Exercice 7"
   ]
  },
  {
   "cell_type": "markdown",
   "metadata": {},
   "source": [
    "\n",
    "\n",
    "Modifie la précedente fonction pour quelle prenne desormais en entrée une phrase, c'est à dire des mots séparés par des espaces. Il enlève toutes les voyelles sauf la lettre a. Par exemple :\n",
    "\n",
    "sans_voyelle('Il fait tres beau ce matin')\n",
    "> 'l fat trs ba c mtn'\n",
    "\n"
   ]
  },
  {
   "cell_type": "code",
   "execution_count": 15,
   "metadata": {},
   "outputs": [],
   "source": [
    "def retirer_voyelle2(mot):\n",
    "\n",
    "    new_word=''\n",
    "    for i in mot:\n",
    "\n",
    "        if i in \"eiouy\":\n",
    "            pass\n",
    "        else :\n",
    "            new_word+=i\n",
    "            \n",
    "    return new_word"
   ]
  },
  {
   "cell_type": "markdown",
   "metadata": {},
   "source": [
    "Testons la fonction"
   ]
  },
  {
   "cell_type": "code",
   "execution_count": 16,
   "metadata": {},
   "outputs": [
    {
     "data": {
      "text/plain": [
       "'JE ss GHlth GBAGUIDI'"
      ]
     },
     "execution_count": 16,
     "metadata": {},
     "output_type": "execute_result"
    }
   ],
   "source": [
    "retirer_voyelle2(\"JE suis GHilth GBAGUIDI\")"
   ]
  },
  {
   "cell_type": "markdown",
   "metadata": {},
   "source": [
    "# Exercice 8"
   ]
  },
  {
   "cell_type": "markdown",
   "metadata": {},
   "source": [
    "\n",
    "\n",
    "En Python, les listes, les tuples et les strings sont des séquences. En Python, on peut écrire une fonction qui prend différents types de variables. Dans cet exercice, nous allons écrire une fonction qui prend en Entrée, une liste, un tuple ou un string et retourne une variable du même type mais avec le premier et le dernier élément de la séquence.\n",
    "\n",
    "debut_fin('deopry')\n",
    "> 'dy'\n",
    "\n",
    "debut_fin([5,2,6,9,8])\n",
    "> [5, 8]\n",
    "\n",
    "debut_fin((2,6,8,9))\n",
    "> 2, 9\n",
    "\n"
   ]
  },
  {
   "cell_type": "code",
   "execution_count": 17,
   "metadata": {},
   "outputs": [],
   "source": [
    "def debut_fin(entree):\n",
    "    if isinstance(entree, list):\n",
    "        return [entree[0], entree[-1]]\n",
    "    \n",
    "    elif isinstance(entree, tuple):\n",
    "        return (entree[0], entree[-1])\n",
    "    \n",
    "    elif isinstance(entree, str):\n",
    "        return entree[0] + entree[-1]\n",
    "\n",
    "    else:\n",
    "        return None\n"
   ]
  },
  {
   "cell_type": "markdown",
   "metadata": {},
   "source": [
    "Testons la fonction"
   ]
  },
  {
   "cell_type": "code",
   "execution_count": 18,
   "metadata": {},
   "outputs": [
    {
     "data": {
      "text/plain": [
       "('t', 'p')"
      ]
     },
     "execution_count": 18,
     "metadata": {},
     "output_type": "execute_result"
    }
   ],
   "source": [
    "debut_fin(('t','er',7,6,'p'))"
   ]
  },
  {
   "cell_type": "markdown",
   "metadata": {},
   "source": [
    "# Exercice 8"
   ]
  },
  {
   "cell_type": "markdown",
   "metadata": {},
   "source": [
    "\n",
    "\n",
    "Dans cet exercice, vous allez écrire une fonction qui prend entrée, une liste de nombre et retourne une liste contenant:\n",
    "\n",
    "    La somme des éléments d'index pairs\n",
    "    La somme des éléments d'index impairs\n",
    "\n",
    "somme_pair_impair([10,20,30,40,50,60])\n",
    "> [90, 120]\n",
    "\n"
   ]
  },
  {
   "cell_type": "code",
   "execution_count": 19,
   "metadata": {},
   "outputs": [],
   "source": [
    "def somme_pair_impair(ma_liste: list):\n",
    "\n",
    "    somme_pair=0\n",
    "    somme_impair=0\n",
    "\n",
    "\n",
    "    for i in range(len(ma_liste)): \n",
    "        if i % 2 == 0:\n",
    "            somme_pair += ma_liste[i]\n",
    "        \n",
    "        else:\n",
    "            somme_impair += ma_liste[i]\n",
    "    \n",
    "    return [somme_pair, somme_impair]"
   ]
  },
  {
   "cell_type": "code",
   "execution_count": 20,
   "metadata": {},
   "outputs": [
    {
     "data": {
      "text/plain": [
       "[90, 120]"
      ]
     },
     "execution_count": 20,
     "metadata": {},
     "output_type": "execute_result"
    }
   ],
   "source": [
    "somme_pair_impair([10,20,30,40,50,60])"
   ]
  },
  {
   "cell_type": "markdown",
   "metadata": {},
   "source": [
    "# Exercice 10"
   ]
  },
  {
   "cell_type": "markdown",
   "metadata": {},
   "source": [
    "\n",
    "\n",
    "Dans cet exercice, tu es appélé à écrire une fonction mot_lettre_repetee qui prend en entrée, une liste de mots. Pour chaque mot, trouve la lettre qui se répète le plus. La focntion retourne alors le mot ayant une lettre qui se répète le plus de fois (dans ce même mot, bien sûr).\n",
    "\n",
    "mot_lettre_repetee([\"On\", \"a\", \"effectuee\", \"plusieurs\", \"tests\", \"elementaire\", \"ce\", \"matin\"])\n",
    "> \"elementaire\"\n",
    "\n",
    "En cas d'égalité, n'importe quelle option vraie est juste.\n"
   ]
  },
  {
   "cell_type": "code",
   "execution_count": 30,
   "metadata": {},
   "outputs": [
    {
     "data": {
      "text/plain": [
       "5"
      ]
     },
     "execution_count": 30,
     "metadata": {},
     "output_type": "execute_result"
    }
   ],
   "source": [
    "#definissons une fonction qui prend un mot, compte le nombre d'occurences de chaque lettre et retourne la plus grande occurence\n",
    "def mot_occurence(mot: str):\n",
    "\n",
    "    mot = mot.lower()\n",
    "    return max([mot.count(i) for i in mot])\n",
    "\n",
    "\n",
    "\n",
    "mot_occurence(\"Anticonstitutionnellement\")"
   ]
  },
  {
   "cell_type": "code",
   "execution_count": 48,
   "metadata": {},
   "outputs": [],
   "source": [
    "#Nous nous servirons de cette fonction dans notre fonction principale\n",
    "def mot_lettre_repetee(liste : list):\n",
    "    dic=[]\n",
    "\n",
    "    for mot in liste:\n",
    "        dic.append(mot_occurence(mot))\n",
    "        maxi=max(dic)\n",
    "\n",
    "    for mot in liste:\n",
    "        if mot_occurence(mot) == maxi:\n",
    "            return mot\n",
    "    \n"
   ]
  },
  {
   "cell_type": "markdown",
   "metadata": {},
   "source": [
    "Testons la fonction"
   ]
  },
  {
   "cell_type": "code",
   "execution_count": 49,
   "metadata": {},
   "outputs": [
    {
     "data": {
      "text/plain": [
       "'effectuee'"
      ]
     },
     "execution_count": 49,
     "metadata": {},
     "output_type": "execute_result"
    }
   ],
   "source": [
    "mot_lettre_repetee([\"On\", \"a\", \"effectuee\", \"plusieurs\", \"tests\", \"elementaire\", \"ce\", \"matin\"])"
   ]
  },
  {
   "cell_type": "markdown",
   "metadata": {},
   "source": [
    "# Exercice 11"
   ]
  },
  {
   "cell_type": "markdown",
   "metadata": {},
   "source": [
    "\n",
    "\n",
    "Ecrivez une fonction qui prend une liste des nombres et qui retourne une liste qui contient la distance entre les différents nombres successifs.\n",
    "\n",
    "Exemple\n",
    "\n",
    "    input : [65, 54, 59]\n",
    "    output : [11, 5]\n",
    "\n"
   ]
  },
  {
   "cell_type": "code",
   "execution_count": 58,
   "metadata": {},
   "outputs": [],
   "source": [
    "def distance(liste: list):\n",
    "    dis=[]\n",
    "\n",
    "    for i in range(len(liste) - 1):\n",
    "        dis.append(abs(liste[i+1] - liste[i]))\n",
    "    return dis\n"
   ]
  },
  {
   "cell_type": "markdown",
   "metadata": {},
   "source": [
    "Testons la foncion "
   ]
  },
  {
   "cell_type": "code",
   "execution_count": 59,
   "metadata": {},
   "outputs": [
    {
     "data": {
      "text/plain": [
       "[11, 5]"
      ]
     },
     "execution_count": 59,
     "metadata": {},
     "output_type": "execute_result"
    }
   ],
   "source": [
    "distance([65, 54, 59])"
   ]
  },
  {
   "cell_type": "markdown",
   "metadata": {},
   "source": [
    "# Exercice 12"
   ]
  },
  {
   "cell_type": "markdown",
   "metadata": {},
   "source": [
    "\n",
    "Exo 12: Lettres successifs et combien d'occurences\n",
    "\n",
    "Ecrivez une fonction qui prend en input une chaine de caractères contenant des lettres et retourne une liste de tuple qui contient successivement chaque lettre et le nombre d'occurences successives. Exemple :\n",
    "\n",
    "    input : 'aaaccdaad\"\n",
    "    output : [(a,3), (c, 2), (d, 1), (a,2), (d, 1)]\n",
    "\n"
   ]
  },
  {
   "cell_type": "code",
   "execution_count": 60,
   "metadata": {},
   "outputs": [],
   "source": [
    "def tuple_occurrence(chaine):\n",
    "    return [(lettre, chaine.count(lettre)) for lettre in chaine]"
   ]
  },
  {
   "cell_type": "markdown",
   "metadata": {},
   "source": [
    "Testons la fonction"
   ]
  },
  {
   "cell_type": "code",
   "execution_count": 61,
   "metadata": {},
   "outputs": [
    {
     "data": {
      "text/plain": [
       "[('t', 1),\n",
       " ('&', 2),\n",
       " ('é', 3),\n",
       " ('y', 1),\n",
       " ('a', 2),\n",
       " ('i', 1),\n",
       " ('z', 1),\n",
       " ('b', 1),\n",
       " ('d', 2),\n",
       " ('o', 1),\n",
       " ('a', 2),\n",
       " ('p', 1),\n",
       " ('&', 2),\n",
       " ('é', 3),\n",
       " ('^', 1),\n",
       " ('é', 3),\n",
       " ('d', 2),\n",
       " (',', 1)]"
      ]
     },
     "execution_count": 61,
     "metadata": {},
     "output_type": "execute_result"
    }
   ],
   "source": [
    "tuple_occurrence(\"t&éyaizbdoap&é^éd,\")"
   ]
  },
  {
   "cell_type": "markdown",
   "metadata": {},
   "source": [
    "# Exercice 13"
   ]
  },
  {
   "cell_type": "markdown",
   "metadata": {},
   "source": [
    "\n",
    "\n",
    "Dans cet exercice, vous allez écrire le code pour l'application mobile de votre restaurant afin de permettre aux clients de commander en ligne.\n",
    "\n",
    "Vous allez d'abord définir un menu sous forme de dictionnaire. Les clés (chaines de caractères) sont les différents repas ou boissons que vous servez et les valeurs (integers ou float) sont leurs prix correspondants. Une fonction restaurant se chargera de demander à l'utilisateur sa commande:\n",
    "\n",
    "    Si la commande existe dans notre menu, le programme affiche son prix et le total actuel de ses commandes, puis lui demande d'entrée une nouvelle commande.\n",
    "    Si la commande n'existe pas dans notre menu, on le dit à l'utilisateur et lui demande de commander autre chose.\n",
    "    Si l'utilisateur appuie Entrée sans rien commander, on lui affiche le prix total de sa commande.\n",
    "\n",
    "Exemple :\n",
    "\n",
    "    Bienvenu dans notre Restaurant\n",
    "\n",
    "    Commande: Burger\n",
    "    Burger coûte 10, total est 10\n",
    "    Commande: cafe\n",
    "    cafe coûte 7, total est 17\n",
    "    Commande: Chicha\n",
    "    Désolé, Nous n'offrons pas de chicha aujourd'hui.\n",
    "    Commande: <entréee>\n",
    "    Votre total est 17\n",
    "\n"
   ]
  },
  {
   "cell_type": "code",
   "execution_count": null,
   "metadata": {},
   "outputs": [],
   "source": []
  }
 ],
 "metadata": {
  "kernelspec": {
   "display_name": "base",
   "language": "python",
   "name": "python3"
  },
  "language_info": {
   "codemirror_mode": {
    "name": "ipython",
    "version": 3
   },
   "file_extension": ".py",
   "mimetype": "text/x-python",
   "name": "python",
   "nbconvert_exporter": "python",
   "pygments_lexer": "ipython3",
   "version": "3.10.9"
  }
 },
 "nbformat": 4,
 "nbformat_minor": 2
}
