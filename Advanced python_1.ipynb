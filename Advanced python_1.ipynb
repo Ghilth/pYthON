{
 "cells": [
  {
   "cell_type": "markdown",
   "id": "1468b2bd",
   "metadata": {},
   "source": [
    "# Éléments du modèle de données Python - I"
   ]
  },
  {
   "cell_type": "markdown",
   "id": "b9117b5b",
   "metadata": {},
   "source": [
    "\n",
    "Tout est un objet en Python\n",
    "\n",
    "Chaque objet est caractérisé par son identité, son type et sa\n",
    "valeur\n",
    "\n",
    "L’identité et le type d’un objet Python ne peuvent être modifiés une\n",
    "fois l’objet créé.\n",
    "\n",
    "La valeur d’un objet peut changer si l’objet n’est pas immuable.\n",
    "L’identité d’un objet peut être perçue comme son adresse en mémoire\n",
    "(CPython)\n",
    "\n",
    "Les fonctions id et type renvoient respectivement l’id et le type d’un\n",
    "objet Python."
   ]
  },
  {
   "cell_type": "code",
   "execution_count": 5,
   "id": "643f37ab",
   "metadata": {},
   "outputs": [
    {
     "data": {
      "text/plain": [
       "int"
      ]
     },
     "execution_count": 5,
     "metadata": {},
     "output_type": "execute_result"
    }
   ],
   "source": [
    "#Je crée une variable qui a pour valeur 25\n",
    "var1=25\n",
    "\n",
    "#id\n",
    "id(var1)\n",
    "\n",
    "#type\n",
    "type(var1)"
   ]
  },
  {
   "cell_type": "code",
   "execution_count": 8,
   "id": "fa5336a1",
   "metadata": {},
   "outputs": [
    {
     "data": {
      "text/plain": [
       "1174222983728"
      ]
     },
     "execution_count": 8,
     "metadata": {},
     "output_type": "execute_result"
    }
   ],
   "source": [
    "#Je crée une variable qui a pour valeur \"Le monde\"\n",
    "var1=\"Le monde\"\n",
    "\n",
    "#type\n",
    "type(var1)\n",
    "\n",
    "#id\n",
    "id(var1)"
   ]
  },
  {
   "cell_type": "markdown",
   "id": "b617cbd3",
   "metadata": {},
   "source": [
    "# Éléments du modèle de données Python - II"
   ]
  },
  {
   "cell_type": "markdown",
   "id": "764eb4f9",
   "metadata": {},
   "source": [
    "Le modèle de données Python définit un ensemble de méthodes spéciales\n",
    "ou magiques (également appelées méthodes dunder, car elles commencent\n",
    "et se terminent par des doubles ’underscore’, comme __init__ ou\n",
    "__str__). \n",
    "\n",
    "L’implémentation de ces méthodes permet aux objets de\n",
    "supporter et d’interagir avec des éléments fondamentaux du langage tels\n",
    "que :\n",
    "\n",
    "Création et destruction d’objets (__init__, __del__)\n",
    "\n",
    "Représentation et formatage (__repr__, __str__, __format__)\n",
    "\n",
    "Comparaison et hachage (__eq__, __lt__, __hash__)\n",
    "\n",
    "Programmation asynchrone avec await (__await__)\n",
    "\n",
    "Collections (__len__, __getitem__, __setitem__, __iter__)\n",
    "\n",
    "Opérations numériques et autres (__add__, __sub__, __call__)\n",
    "etc...\n"
   ]
  },
  {
   "cell_type": "markdown",
   "id": "9121650e",
   "metadata": {},
   "source": [
    "## Person "
   ]
  },
  {
   "cell_type": "code",
   "execution_count": 14,
   "id": "e4818683",
   "metadata": {},
   "outputs": [
    {
     "name": "stdout",
     "output_type": "stream",
     "text": [
      "Nom: Ghilth, Age: 19ans\n"
     ]
    }
   ],
   "source": [
    "class Person:\n",
    "    def __init__(self,name,age):\n",
    "        self.name=name\n",
    "        self.age=age\n",
    "        \n",
    "    def __repr__(self):\n",
    "        return f\"Nom: {self.name}, Age: {self.age}ans\"\n",
    "    \n",
    "\n",
    "    \n",
    "    \n",
    "ma_person=Person(\"Ghilth\", 19)\n",
    "\n",
    "print(ma_person)"
   ]
  },
  {
   "cell_type": "markdown",
   "id": "3ceaf091",
   "metadata": {},
   "source": [
    "## Vector practice\n"
   ]
  },
  {
   "cell_type": "code",
   "execution_count": 2,
   "id": "f4d61331",
   "metadata": {},
   "outputs": [],
   "source": [
    "import math\n",
    "\n",
    "\n",
    "class Vector:\n",
    "    \n",
    "    def __init__(self,x=0,y=0):\n",
    "        self.x=x\n",
    "        self.y=y\n",
    "        \n",
    "        \n",
    "    def __add__(self,v2):\n",
    "        x=self.x+ v2.x\n",
    "        y=self.y + v2.y\n",
    "        return Vector(x,y)\n",
    "    \n",
    "    \n",
    "\n",
    "    def __mul__(self,v3):\n",
    "        x=self.x * v3.x\n",
    "        y=self.y * v3.y\n",
    "        return Vector(x,y)\n",
    "    \n",
    "    \n",
    "    #abs pas marché\n",
    "    def __abs__(self,v):\n",
    "        return math.sqrt(v.x**2+v.y**2)\n",
    "    \n",
    "    \n",
    "    def __repr__(self):\n",
    "        return f\"Vector({self.x},{self.y})\"\n",
    "    \n",
    "    \n",
    "        "
   ]
  },
  {
   "cell_type": "code",
   "execution_count": 4,
   "id": "59fb1fd6",
   "metadata": {},
   "outputs": [
    {
     "name": "stdout",
     "output_type": "stream",
     "text": [
      "Vector(5,6)\n"
     ]
    }
   ],
   "source": [
    "p=Vector(5,6)\n",
    "\n",
    "print(p)"
   ]
  },
  {
   "cell_type": "code",
   "execution_count": 26,
   "id": "8b71bf4d",
   "metadata": {},
   "outputs": [
    {
     "name": "stdout",
     "output_type": "stream",
     "text": [
      "Vector(0,0)\n"
     ]
    }
   ],
   "source": [
    "vec1=Vector()\n",
    "\n",
    "print(vec1)"
   ]
  },
  {
   "cell_type": "code",
   "execution_count": 27,
   "id": "becd206a",
   "metadata": {},
   "outputs": [
    {
     "name": "stdout",
     "output_type": "stream",
     "text": [
      "Vector(14,12)\n"
     ]
    }
   ],
   "source": [
    "vec2=Vector(6,5)\n",
    "\n",
    "vec3=Vector(8,7)\n",
    "\n",
    "vec=vec2+vec3\n",
    "\n",
    "print(vec)"
   ]
  },
  {
   "cell_type": "code",
   "execution_count": 30,
   "id": "fe8f57a4",
   "metadata": {},
   "outputs": [
    {
     "name": "stdout",
     "output_type": "stream",
     "text": [
      "Vector(48,35)\n"
     ]
    }
   ],
   "source": [
    "vec=vec3*vec2\n",
    "\n",
    "print(vec)"
   ]
  },
  {
   "cell_type": "markdown",
   "id": "31b2c488",
   "metadata": {},
   "source": [
    "# Éléments du modèle de données Python - III\n"
   ]
  },
  {
   "cell_type": "markdown",
   "id": "308ca9d4",
   "metadata": {},
   "source": [
    "Juste en implémentant les méthodes __len__ et __getitem__, les objets\n",
    "d’une classe peuvent être utilisés comme une séquence avec d’autres\n",
    "constructions du langage Python, sans hériter d’une classe quelconque.\n",
    "\n",
    "\n",
    "Les utilisateurs de vos classes n’auront plus à chercher les méthodes\n",
    "utilisées pour des opérations standard (e.g. .size() ou\n",
    ".length() ).\n",
    "\n",
    "C’est plus facile de bénéficier de la richesse de la bibliothèque\n",
    "standard de Python et ne réinventer la roue, comme la fonction\n",
    "random.choice .\n",
    "\n",
    "On a une intégration à bien d’autres constructions du langage qui\n",
    "fonctionnent avec les séquences (e.g. itération, recherche, slicing,\n",
    "etc...)."
   ]
  },
  {
   "cell_type": "code",
   "execution_count": 31,
   "id": "24c68a24",
   "metadata": {},
   "outputs": [],
   "source": [
    "#Je dois mener des recherches sur getitem et len pour trouver un meilleur exemple\n",
    "\n",
    "class Card:\n",
    "    \n",
    "    def __init__(self,rank,suit):\n",
    "        self.rank=rank\n",
    "        self.suit=suit\n",
    "        \n",
    "        \n",
    "    def __len__(self):\n",
    "        return len(self._cards)\n",
    "    \n",
    "    \n",
    "    def __getitem__(self, position):\n",
    "        return self._cards[position]\n",
    "\n",
    "        \n",
    "    def __repr__(self):\n",
    "        return f\" Card(rank={self.rank} ,suit={self.suit})\""
   ]
  },
  {
   "cell_type": "markdown",
   "id": "033b51fe",
   "metadata": {},
   "source": [
    "En général, les méthodes magiques sont censées être invoquées par\n",
    "l’interpréteur Python, pas par le programmeur.\n",
    "\n",
    "L’interpréteur invoque souvent les méthodes magiques de manière\n",
    "implicite. Comme for card in deck avec la classe FrenchDeck .\n",
    "\n",
    "Si vous avez besoin d’utiliser une méthode spéciale, il est préférable\n",
    "d’appeler la fonction native correspondante (e.g. len, iter, str).\n"
   ]
  },
  {
   "cell_type": "markdown",
   "id": "4df111e5",
   "metadata": {},
   "source": [
    "# Exercice"
   ]
  },
  {
   "cell_type": "markdown",
   "id": "0dd4ed62",
   "metadata": {},
   "source": [
    "Nous allons utiliser les fonctions spéciales pour la création d’une classe\n",
    "Python qui représente un vecteur bidimensionnel (dans un espace\n",
    "euclidien) et qui supporte les opérations suivantes :\n",
    "    \n",
    "addition avec un autre vecteur, multiplication avec un scalaire, calcul de la magnitude du vecteur,\n",
    "support d’une valeur booléenne pour les vecteurs, affichage d’une\n",
    "représentation en chaine de caractères des objets de la classe. \n",
    "\n",
    "Utilisez les méthodes spéciales __abs__, __add__, __mul__, __repr__.\n",
    "\n",
    "Extra: Rendre commutative la multiplication par un scalaire, et ajouter\n",
    "l’opération de soustraction entre deux vecteurs.\n"
   ]
  },
  {
   "cell_type": "code",
   "execution_count": null,
   "id": "ffeae429",
   "metadata": {},
   "outputs": [],
   "source": []
  },
  {
   "cell_type": "markdown",
   "id": "0b3e4224",
   "metadata": {},
   "source": [
    "# Séquences"
   ]
  },
  {
   "cell_type": "markdown",
   "id": "a2f3cd0e",
   "metadata": {},
   "source": [
    "La bibliothèque standard Python contient plusieurs types de séquences. On peut les diviser en\n",
    "deux catégories :\n",
    "\n",
    "**Les conteneurs**: Peuvent contenir des éléments de différents types, comme d’autres\n",
    "conteneurs. Les conteneurs gardent une référence des objets qu’ils contiennent.\n",
    "\n",
    "Exemples: list, tuple, collections.deque.\n",
    "\n",
    "**Les séquences plates**: Peuvent contenir des éléments d’un type simple. Les séquences\n",
    "plates gardent les ’valeurs’ des éléments qu’elles continent de façon contiguë en mémoire\n",
    "dans la séquence elle-même (Pas de référence vers d’autres objets).\n",
    "\n",
    "Exemples: str,bytes, array.array\n"
   ]
  },
  {
   "cell_type": "markdown",
   "id": "e4201fda",
   "metadata": {},
   "source": [
    "On peut aussi grouper les séquences en fonction de leur mutabilité :\n",
    "\n",
    "**Les séquences mutables:** Exemples : list, bytearray,\n",
    "array.array , collections.deque .\n",
    "\n",
    "**Les séquences immuables:** Exemples: tuple, str, bytes"
   ]
  },
  {
   "cell_type": "code",
   "execution_count": null,
   "id": "536dfba9",
   "metadata": {},
   "outputs": [],
   "source": []
  }
 ],
 "metadata": {
  "kernelspec": {
   "display_name": "Python 3 (ipykernel)",
   "language": "python",
   "name": "python3"
  },
  "language_info": {
   "codemirror_mode": {
    "name": "ipython",
    "version": 3
   },
   "file_extension": ".py",
   "mimetype": "text/x-python",
   "name": "python",
   "nbconvert_exporter": "python",
   "pygments_lexer": "ipython3",
   "version": "3.10.9"
  }
 },
 "nbformat": 4,
 "nbformat_minor": 5
}
